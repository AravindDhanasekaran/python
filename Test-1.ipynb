{
 "cells": [
  {
   "cell_type": "code",
   "execution_count": 4,
   "metadata": {},
   "outputs": [
    {
     "name": "stdout",
     "output_type": "stream",
     "text": [
      "Enter the number of element 3\n",
      "Enter the input\n",
      "check null value\n",
      "handle null values in list append loop\n"
     ]
    }
   ],
   "source": [
    "#function to get the input and to find the highest number\n",
    "\n",
    "def highest_number(lenth_of_list):#lenth_of_list-gives the user input that is the lenth of list(number of elements in the list)\n",
    "    i=0#variable used for the iteration\n",
    "    list1=[]#list1 is our list where the user input are stored\n",
    "    \n",
    "    while(i<lenth_of_list):#getting the user input for list\n",
    "        try:\n",
    "            list_inputs=int(input(\"Enter the input\"))\n",
    "        except:\n",
    "            print(\"check null or datatype value\")# if the null  value is entered it will break out of the loop\n",
    "            break\n",
    "        else:\n",
    "            list1.append(list_inputs)#adding it in the list\n",
    "        i=i+1\n",
    "   \n",
    "    i=0\n",
    "    \n",
    "#actual function is performed below finding the higesht number in the list\n",
    "    try:\n",
    "        while(i<lenth_of_list):\n",
    "            if(list1[0]<list1[i]): \n",
    "                temp=list1[i]\n",
    "                list1[0]=temp #the highest number is stored in the list index '0' for each iteration\n",
    "            \n",
    "            i=i+1\n",
    "    except:\n",
    "        print(\"handle null or datatype values in listappend loop\")#if the  list have null value it will show index error which is handled here\n",
    "    else:\n",
    "        print(\"The higesht number is \",list1[0])#print list index  '0' because our highest value is in index 0\n",
    "                \n",
    "\n",
    "        \n",
    "\n",
    "#Getting the number of input from the user \n",
    "\n",
    "try:\n",
    "    no_of_input=int(input(\"Enter the number of element \"))\n",
    "except:\n",
    "    print(\"check null or datatype \")\n",
    "else:  \n",
    "    highest_number(no_of_input)\n"
   ]
  },
  {
   "cell_type": "code",
   "execution_count": null,
   "metadata": {},
   "outputs": [],
   "source": [
    "\n"
   ]
  },
  {
   "cell_type": "code",
   "execution_count": null,
   "metadata": {},
   "outputs": [],
   "source": []
  },
  {
   "cell_type": "code",
   "execution_count": null,
   "metadata": {},
   "outputs": [],
   "source": []
  }
 ],
 "metadata": {
  "kernelspec": {
   "display_name": "Python 3",
   "language": "python",
   "name": "python3"
  },
  "language_info": {
   "codemirror_mode": {
    "name": "ipython",
    "version": 3
   },
   "file_extension": ".py",
   "mimetype": "text/x-python",
   "name": "python",
   "nbconvert_exporter": "python",
   "pygments_lexer": "ipython3",
   "version": "3.7.4"
  }
 },
 "nbformat": 4,
 "nbformat_minor": 2
}
