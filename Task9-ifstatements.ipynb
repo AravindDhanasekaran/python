{
 "cells": [
  {
   "cell_type": "code",
   "execution_count": null,
   "metadata": {},
   "outputs": [],
   "source": []
  },
  {
   "cell_type": "code",
   "execution_count": null,
   "metadata": {},
   "outputs": [],
   "source": [
    "#Ask 2 numbers from users and store it in num1 and num2\n",
    "#Ask user to press 1 for addition,2 for subtraction,3 for multiplication and 4 for division\n",
    "#based on number given by user do the math operation"
   ]
  },
  {
   "cell_type": "code",
   "execution_count": 7,
   "metadata": {},
   "outputs": [
    {
     "name": "stdout",
     "output_type": "stream",
     "text": [
      "enter input 1->5\n",
      "enter input 2->5\n",
      "enter your choice5\n",
      "valid number between 1 to  4\n"
     ]
    }
   ],
   "source": [
    "in1=int(input(\"enter input 1->\"))\n",
    "in2=int(input(\"enter input 2->\"))\n",
    "c=int(input(\"enter your choice\"))\n",
    "o=0\n",
    "\n",
    "if (c==1):\n",
    "    o=in1+in2\n",
    "    print(o)\n",
    "elif (c==2):\n",
    "    o=in1-in2\n",
    "    print(o)\n",
    "elif(c==3):\n",
    "    o=in1*in2\n",
    "    print(o)\n",
    "elif(c==4):\n",
    "    o=in1/in2\n",
    "    print(o)\n",
    "else:\n",
    "    print(\"valid number between 1 to  4\")\n",
    "    "
   ]
  },
  {
   "cell_type": "code",
   "execution_count": null,
   "metadata": {},
   "outputs": [],
   "source": []
  },
  {
   "cell_type": "code",
   "execution_count": null,
   "metadata": {},
   "outputs": [],
   "source": []
  }
 ],
 "metadata": {
  "kernelspec": {
   "display_name": "Python 3",
   "language": "python",
   "name": "python3"
  },
  "language_info": {
   "codemirror_mode": {
    "name": "ipython",
    "version": 3
   },
   "file_extension": ".py",
   "mimetype": "text/x-python",
   "name": "python",
   "nbconvert_exporter": "python",
   "pygments_lexer": "ipython3",
   "version": "3.7.4"
  }
 },
 "nbformat": 4,
 "nbformat_minor": 2
}
