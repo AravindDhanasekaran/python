{
 "cells": [
  {
   "cell_type": "code",
   "execution_count": 5,
   "metadata": {},
   "outputs": [
    {
     "name": "stdout",
     "output_type": "stream",
     "text": [
      "entr the val15\n",
      "entr the val25\n",
      "entr your choice5\n",
      "entr valid num between 1to4\n"
     ]
    }
   ],
   "source": [
    "def add(x,y):\n",
    "    a=x+y\n",
    "    print(a)\n",
    "def sub(x,y):\n",
    "    a=x-y\n",
    "    print(a)\n",
    "def mul(x,y):\n",
    "    a=x*y\n",
    "    print(a)\n",
    "def div(x,y):\n",
    "    a=x/y\n",
    "    print(a)\n",
    "\n",
    "\n",
    "in1=int(input(\"entr the val1\"))\n",
    "in2=int(input(\"entr the val2\"))\n",
    "ch=int(input(\"entr your choice\"))\n",
    "\n",
    "if(ch==1):\n",
    "    add(in1,in2)\n",
    "elif(ch==2):\n",
    "    sub(in1,in2)\n",
    "elif(ch==3):\n",
    "    mul(in1,in2)\n",
    "elif(ch==4):\n",
    "    div(in1,in2)\n",
    "else:\n",
    "    print(\"entr valid num between 1to4\")"
   ]
  },
  {
   "cell_type": "code",
   "execution_count": null,
   "metadata": {},
   "outputs": [],
   "source": []
  },
  {
   "cell_type": "code",
   "execution_count": null,
   "metadata": {},
   "outputs": [],
   "source": []
  },
  {
   "cell_type": "code",
   "execution_count": null,
   "metadata": {},
   "outputs": [],
   "source": []
  }
 ],
 "metadata": {
  "kernelspec": {
   "display_name": "Python 3",
   "language": "python",
   "name": "python3"
  },
  "language_info": {
   "codemirror_mode": {
    "name": "ipython",
    "version": 3
   },
   "file_extension": ".py",
   "mimetype": "text/x-python",
   "name": "python",
   "nbconvert_exporter": "python",
   "pygments_lexer": "ipython3",
   "version": "3.7.4"
  }
 },
 "nbformat": 4,
 "nbformat_minor": 2
}
